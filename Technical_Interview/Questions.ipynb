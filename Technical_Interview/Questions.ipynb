{
 "cells": [
  {
   "cell_type": "markdown",
   "metadata": {},
   "source": [
    "## Question 1.\n",
    "\n",
    "The efficiency of my answer is O(n). I designed my code to have improved efficiency by having the set check first, which quickly determines whether t is potentially a subset of s before carrying out any of the more time consuming checks."
   ]
  },
  {
   "cell_type": "code",
   "execution_count": 253,
   "metadata": {
    "ExecuteTime": {
     "end_time": "2017-11-21T12:41:16.057152Z",
     "start_time": "2017-11-21T12:41:16.053553Z"
    },
    "collapsed": true
   },
   "outputs": [],
   "source": [
    "import numpy as np"
   ]
  },
  {
   "cell_type": "code",
   "execution_count": 254,
   "metadata": {
    "ExecuteTime": {
     "end_time": "2017-11-21T12:41:16.252467Z",
     "start_time": "2017-11-21T12:41:16.245450Z"
    },
    "collapsed": false
   },
   "outputs": [],
   "source": [
    "## anagram\n",
    "def question1(s,t):\n",
    "    \n",
    "    '''\n",
    "    first, define sets for each string \n",
    "    and check whether set(t) <= set(s), \n",
    "    which means  that t could be a subset of s\n",
    "    \n",
    "    Next, check if the number of each element of t is \n",
    "    not more than that of s\n",
    "    '''\n",
    "    \n",
    "    if set(list(t)) <= set(list(s)): \n",
    "        for i in list(set(list(t))):\n",
    "            if list(t).count(i) > list(s).count(i):\n",
    "                return False\n",
    "        return True\n",
    "    return False"
   ]
  },
  {
   "cell_type": "code",
   "execution_count": 255,
   "metadata": {
    "ExecuteTime": {
     "end_time": "2017-11-21T12:41:16.441481Z",
     "start_time": "2017-11-21T12:41:16.432360Z"
    },
    "collapsed": false
   },
   "outputs": [
    {
     "data": {
      "text/plain": [
       "True"
      ]
     },
     "execution_count": 255,
     "metadata": {},
     "output_type": "execute_result"
    }
   ],
   "source": [
    "## ex1\n",
    "s='abcdefsdfggfghjgkkgjjgl'\n",
    "t='gl'\n",
    "question1(s,t)"
   ]
  },
  {
   "cell_type": "code",
   "execution_count": 256,
   "metadata": {
    "ExecuteTime": {
     "end_time": "2017-11-21T12:41:16.675855Z",
     "start_time": "2017-11-21T12:41:16.665994Z"
    },
    "collapsed": false
   },
   "outputs": [
    {
     "data": {
      "text/plain": [
       "True"
      ]
     },
     "execution_count": 256,
     "metadata": {},
     "output_type": "execute_result"
    }
   ],
   "source": [
    "## ex2\n",
    "s='abc'\n",
    "t='ab'\n",
    "question1(s,t)"
   ]
  },
  {
   "cell_type": "code",
   "execution_count": 257,
   "metadata": {
    "ExecuteTime": {
     "end_time": "2017-11-21T12:41:16.897403Z",
     "start_time": "2017-11-21T12:41:16.883740Z"
    },
    "collapsed": false
   },
   "outputs": [
    {
     "data": {
      "text/plain": [
       "False"
      ]
     },
     "execution_count": 257,
     "metadata": {},
     "output_type": "execute_result"
    }
   ],
   "source": [
    "## ex3\n",
    "s='a'\n",
    "t='dea'\n",
    "question1(s,t)"
   ]
  },
  {
   "cell_type": "markdown",
   "metadata": {},
   "source": [
    "## Question 2\n",
    "\n",
    "The efficiency of my code is O(n^2). I designed my code to use the python list indexing shortcut a[::-1] to reverse the substring it's checking. "
   ]
  },
  {
   "cell_type": "code",
   "execution_count": 258,
   "metadata": {
    "ExecuteTime": {
     "end_time": "2017-11-21T12:41:17.355883Z",
     "start_time": "2017-11-21T12:41:17.346597Z"
    },
    "collapsed": false
   },
   "outputs": [],
   "source": [
    "## palindromic substring\n",
    "def question2(a):\n",
    "    \n",
    "    '''\n",
    "    first check whether all of a forms a palindrome or not.\n",
    "    next, consider smaller and smaller substrings of a and check whether they are plaindromic.\n",
    "    '''\n",
    "    \n",
    "    for i in range(len(a)-1):\n",
    "        for j in range(i+1):\n",
    "            sub_a = a[j:len(a)-i+j]\n",
    "            if sub_a == sub_a[::-1]:\n",
    "                return sub_a\n",
    "    return 'No substring available'"
   ]
  },
  {
   "cell_type": "code",
   "execution_count": 259,
   "metadata": {
    "ExecuteTime": {
     "end_time": "2017-11-21T12:41:17.604585Z",
     "start_time": "2017-11-21T12:41:17.596518Z"
    },
    "collapsed": false
   },
   "outputs": [
    {
     "data": {
      "text/plain": [
       "'eaeaeae'"
      ]
     },
     "execution_count": 259,
     "metadata": {},
     "output_type": "execute_result"
    }
   ],
   "source": [
    "## ex1\n",
    "a='eaeaeaea'\n",
    "question2(a)"
   ]
  },
  {
   "cell_type": "code",
   "execution_count": 260,
   "metadata": {
    "ExecuteTime": {
     "end_time": "2017-11-21T12:41:17.782874Z",
     "start_time": "2017-11-21T12:41:17.777087Z"
    },
    "collapsed": false
   },
   "outputs": [
    {
     "data": {
      "text/plain": [
       "'No substring available'"
      ]
     },
     "execution_count": 260,
     "metadata": {},
     "output_type": "execute_result"
    }
   ],
   "source": [
    "## ex2\n",
    "a='stringstring'\n",
    "question2(a)"
   ]
  },
  {
   "cell_type": "code",
   "execution_count": 261,
   "metadata": {
    "ExecuteTime": {
     "end_time": "2017-11-21T12:41:17.978972Z",
     "start_time": "2017-11-21T12:41:17.969350Z"
    },
    "collapsed": false
   },
   "outputs": [
    {
     "data": {
      "text/plain": [
       "'tbalabt'"
      ]
     },
     "execution_count": 261,
     "metadata": {},
     "output_type": "execute_result"
    }
   ],
   "source": [
    "## ex3\n",
    "a='dfdjklasdfjkltbalabtdfdfa'\n",
    "question2(a)"
   ]
  },
  {
   "cell_type": "markdown",
   "metadata": {},
   "source": [
    "## Question 3\n",
    "\n",
    "The efficiency of my code is O(n^2). I used prim's algorithm."
   ]
  },
  {
   "cell_type": "code",
   "execution_count": 262,
   "metadata": {
    "ExecuteTime": {
     "end_time": "2017-11-21T12:41:18.415778Z",
     "start_time": "2017-11-21T12:41:18.361034Z"
    },
    "collapsed": false
   },
   "outputs": [],
   "source": [
    "## Minimum spanning tree (using prim's algorithm)\n",
    "def question3(G):\n",
    "    \n",
    "    n=0\n",
    "    label_list=[]\n",
    "    answer={} ## adjacency list\n",
    "    \n",
    "    ## loop over the number of edges for a minimum spanning tree, which will be n (number of vertex) - 1\n",
    "    \n",
    "    while n < len(G)-1:\n",
    "    \n",
    "    ## starting with the first vertex. \n",
    "        if n==0:\n",
    "            label= G.keys()[0]\n",
    "            label_list.append(label)\n",
    "\n",
    "            min_label  = sorted(G[label], key=lambda x: x[1])[0][0]\n",
    "            weight = sorted(G[label], key=lambda x: x[1])[0][1]\n",
    "            label_list.append(min_label)\n",
    "            \n",
    "    ## when I have already started building the minimum spanning tree, \n",
    "    ## at each iteration I will check for the shortest possible edge to add next\n",
    "    \n",
    "        else:\n",
    "            new={}\n",
    "            for i in label_list:\n",
    "                if len(G[i])!=0:\n",
    "                    temp = sorted(G[i], key=lambda x: x[1])\n",
    "                    temp = [j for j in temp if j[0] not in label_list]\n",
    "                    if len(temp)!=0:\n",
    "                        new[i]=temp[0]\n",
    "\n",
    "            new_answer = sorted(new.values(), key=lambda x: x[1])[0]\n",
    "            new2 = dict((v, k) for k, v in new.iteritems())\n",
    "            label = new2[new_answer]\n",
    "        \n",
    "            min_label = new_answer[0]\n",
    "            weight = new_answer[1]\n",
    "            label_list.append(min_label)\n",
    "    \n",
    "    ## at each iteration, save the new pair of vertices and their edge weights\n",
    "    \n",
    "        if label in answer:\n",
    "            answer[label].append((min_label,weight))\n",
    "        else:\n",
    "            answer[label] = [(min_label,weight)]\n",
    "            \n",
    "        if min_label in answer:  \n",
    "            answer[min_label].append((label,weight))\n",
    "        else:\n",
    "            answer[min_label] = [(label,weight)]\n",
    "    \n",
    "    ## remove the edges that were just connected to the minimum spanning tree\n",
    "        G[label].remove((min_label,weight))\n",
    "        G[min_label].remove((label,weight))\n",
    "    \n",
    "        n+=1\n",
    "    return answer"
   ]
  },
  {
   "cell_type": "code",
   "execution_count": 263,
   "metadata": {
    "ExecuteTime": {
     "end_time": "2017-11-21T12:41:18.593279Z",
     "start_time": "2017-11-21T12:41:18.582040Z"
    },
    "collapsed": false
   },
   "outputs": [
    {
     "data": {
      "text/plain": [
       "{'A': [('B', 2)], 'B': [('A', 2), ('C', 5)], 'C': [('B', 5)]}"
      ]
     },
     "execution_count": 263,
     "metadata": {},
     "output_type": "execute_result"
    }
   ],
   "source": [
    "## ex1\n",
    "G= {'A': [('B', 2)],\n",
    " 'B': [('A', 2), ('C', 5)], \n",
    " 'C': [('B', 5)]}\n",
    "question3(G)"
   ]
  },
  {
   "cell_type": "code",
   "execution_count": 264,
   "metadata": {
    "ExecuteTime": {
     "end_time": "2017-11-21T12:41:18.987165Z",
     "start_time": "2017-11-21T12:41:18.976313Z"
    },
    "collapsed": false
   },
   "outputs": [
    {
     "data": {
      "text/plain": [
       "{'A': [('B', 1)],\n",
       " 'B': [('A', 1), ('E', 1)],\n",
       " 'C': [('F', 5)],\n",
       " 'D': [('E', 1)],\n",
       " 'E': [('B', 1), ('D', 1), ('F', 4)],\n",
       " 'F': [('E', 4), ('C', 5)]}"
      ]
     },
     "execution_count": 264,
     "metadata": {},
     "output_type": "execute_result"
    }
   ],
   "source": [
    "## ex2\n",
    "G= {'A': [('B', 1)],\n",
    " 'B': [('A', 1), ('E', 1), ('F',9)], \n",
    " 'C': [('F', 5)],\n",
    " 'D' : [('E', 1)],\n",
    "   'E' : [('B',1),('D',1),('F',4)],\n",
    "   'F' : [('B',9),('C',5), ('E',4)]}\n",
    "question3(G)"
   ]
  },
  {
   "cell_type": "code",
   "execution_count": 265,
   "metadata": {
    "ExecuteTime": {
     "end_time": "2017-11-21T12:41:19.224552Z",
     "start_time": "2017-11-21T12:41:19.203366Z"
    },
    "collapsed": false
   },
   "outputs": [
    {
     "data": {
      "text/plain": [
       "{'A': [('E', 3)],\n",
       " 'B': [('E', 1)],\n",
       " 'C': [('F', 5)],\n",
       " 'D': [('E', 1)],\n",
       " 'E': [('A', 3), ('B', 1), ('D', 1), ('F', 4)],\n",
       " 'F': [('E', 4), ('C', 5)]}"
      ]
     },
     "execution_count": 265,
     "metadata": {},
     "output_type": "execute_result"
    }
   ],
   "source": [
    "## ex3\n",
    "G= {'A': [('B', 10), ('D',4),('E',3)],\n",
    " 'B': [('A', 10), ('E', 1), ('F',9)], \n",
    " 'C': [('F', 5)],\n",
    " 'D' : [('A',4),('E', 1)],\n",
    "   'E' : [('A',3),('B',1),('D',1),('F',4)],\n",
    "   'F' : [('B',9),('C',5), ('E',4)]}\n",
    "question3(G)"
   ]
  },
  {
   "cell_type": "markdown",
   "metadata": {},
   "source": [
    "## Question 4\n",
    "\n",
    "The efficiency of my code is O(n). I started from the root and find children, so that save all of the paths to the two nodes, n1 and n2. Finally, I compared two paths and found the node just before they started not to be identical."
   ]
  },
  {
   "cell_type": "code",
   "execution_count": 285,
   "metadata": {
    "ExecuteTime": {
     "end_time": "2017-11-21T12:47:55.956016Z",
     "start_time": "2017-11-21T12:47:55.905669Z"
    },
    "collapsed": false
   },
   "outputs": [],
   "source": [
    "## Least Common Ancester\n",
    "class Node:\n",
    "    def __init__(self, key):\n",
    "        self.val =  key\n",
    "        self.left = None\n",
    "        self.right = None\n",
    "\n",
    "\n",
    "## Define for \"insert\" in a binary tree\n",
    "def insert(root,node):\n",
    "    if root is None:\n",
    "        root = node\n",
    "    else:\n",
    "        if root.val < node.val:\n",
    "            if root.right is None:\n",
    "                root.right = node\n",
    "            else:\n",
    "                insert(root.right, node)\n",
    "        else:\n",
    "            if root.left is None:\n",
    "                root.left = node\n",
    "            else:\n",
    "                insert(root.left, node)\n",
    "\n",
    "                \n",
    "## Define for \"search\" in a binary tree\n",
    "def search(root,key,path):\n",
    "    if root.val == key:\n",
    "        path.append(root.val)\n",
    "        return path\n",
    "    if root.val < key:\n",
    "        path.append(root.val)\n",
    "        return search(root.right,key,path)\n",
    "    path.append(root.val)\n",
    "    return search(root.left,key,path)\n",
    "        \n",
    "    \n",
    "## Read a matrix, T, and make a binary tree\n",
    "def findchild(T,root,r):\n",
    "    if root is None:\n",
    "        root = Node(r)\n",
    "    child = np.where(np.array(T[r])==1)[0]\n",
    "    for i in range(len(child)):\n",
    "        insert(root,Node(child[i]))\n",
    "        findchild(T,root,child[i])\n",
    "    return root\n",
    "    \n",
    "    \n",
    "## find the least common ancester\n",
    "def LCA(root, n1, n2):\n",
    "\n",
    "    path1=[]\n",
    "    path1=search(root,n1,path1)\n",
    "\n",
    "    path2=[]\n",
    "    path2=search(root,n2,path2)\n",
    "    lca=root.val\n",
    "    \n",
    "    for i in range(len(path1)):\n",
    "        if path1[i]==path2[i]:\n",
    "            lca = path1[i]\n",
    "        else:\n",
    "            return lca\n",
    "        \n",
    "        \n",
    "def question4(T,r,n1,n2):\n",
    "    root = None\n",
    "    root = findchild(T,root,r)\n",
    "    return LCA(root, n1, n2)"
   ]
  },
  {
   "cell_type": "code",
   "execution_count": 286,
   "metadata": {
    "ExecuteTime": {
     "end_time": "2017-11-21T12:47:57.733205Z",
     "start_time": "2017-11-21T12:47:57.725352Z"
    },
    "collapsed": false
   },
   "outputs": [
    {
     "data": {
      "text/plain": [
       "3"
      ]
     },
     "execution_count": 286,
     "metadata": {},
     "output_type": "execute_result"
    }
   ],
   "source": [
    "## ex1\n",
    "T = [[0, 1, 0, 0, 0],\n",
    "           [0, 0, 0, 0, 0],\n",
    "           [0, 0, 0, 0, 0],\n",
    "           [1, 0, 0, 0, 1],\n",
    "           [0, 0, 0, 0, 0]]\n",
    "r = 3\n",
    "n1 = 1\n",
    "n2 = 4\n",
    "question4(T,r,n1,n2)"
   ]
  },
  {
   "cell_type": "code",
   "execution_count": 288,
   "metadata": {
    "ExecuteTime": {
     "end_time": "2017-11-21T12:51:16.200312Z",
     "start_time": "2017-11-21T12:51:16.183891Z"
    },
    "collapsed": false
   },
   "outputs": [
    {
     "data": {
      "text/plain": [
       "7"
      ]
     },
     "execution_count": 288,
     "metadata": {},
     "output_type": "execute_result"
    }
   ],
   "source": [
    "## ex2\n",
    "T = [[0, 0, 0, 0, 0, 0, 0, 0, 0, 0],\n",
    "     [0, 0, 0, 0, 0, 0, 0, 0, 0, 0],\n",
    "     [0, 0, 0, 0, 0, 0, 0, 0, 0, 0],\n",
    "     [0, 1, 0, 0, 1, 0, 0, 0, 0, 0],\n",
    "     [0, 0, 0, 0, 0, 0, 0, 0, 0, 0],\n",
    "     [0, 0, 0, 1, 0, 0, 0, 1, 0, 0],\n",
    "     [0, 0, 0, 0, 0, 0, 0, 0, 0, 0],\n",
    "     [0, 0, 0, 0, 0, 0, 1, 0, 0, 1],\n",
    "     [0, 0, 0, 0, 0, 0, 0, 0, 0, 0],\n",
    "     [0, 0, 0, 0, 0, 0, 0, 0, 1, 0],]\n",
    "r = 5\n",
    "n1 = 6\n",
    "n2 = 8\n",
    "question4(T,r,n1,n2)"
   ]
  },
  {
   "cell_type": "code",
   "execution_count": 289,
   "metadata": {
    "ExecuteTime": {
     "end_time": "2017-11-21T12:54:33.037552Z",
     "start_time": "2017-11-21T12:54:33.012238Z"
    },
    "collapsed": false
   },
   "outputs": [
    {
     "data": {
      "text/plain": [
       "8"
      ]
     },
     "execution_count": 289,
     "metadata": {},
     "output_type": "execute_result"
    }
   ],
   "source": [
    "## ex3\n",
    "T = [[0, 0, 0, 0, 0, 0, 0, 0, 0, 0, 0, 0],\n",
    "     [0, 0, 0, 0, 0, 0, 0, 0, 0, 0, 0, 0],\n",
    "     [0, 0, 0, 0, 0, 0, 0, 0, 0, 0, 0, 0],\n",
    "     [0, 1, 0, 0, 0, 0, 1, 0, 0, 0, 0, 0],\n",
    "     [0, 0, 0, 0, 0, 0, 0, 0, 0, 0, 0, 0],\n",
    "     [0, 0, 0, 0, 0, 0, 0, 0, 0, 0, 0, 0],\n",
    "     [0, 0, 0, 0, 1, 0, 0, 1, 0, 0, 0, 0],\n",
    "     [0, 0, 0, 0, 0, 0, 0, 0, 0, 0, 0, 0],\n",
    "     [0, 0, 0, 1, 0, 0, 0, 0, 0, 0, 1, 0],\n",
    "     [0, 0, 0, 0, 0, 0, 0, 0, 0, 0, 0, 0],\n",
    "     [0, 0, 0, 0, 0, 0, 0, 0, 0, 0, 0, 1],\n",
    "     [0, 0, 0, 0, 0, 0, 0, 0, 0, 1, 0, 0],]\n",
    "r = 8\n",
    "n1 = 4\n",
    "n2 = 9\n",
    "question4(T,r,n1,n2)"
   ]
  },
  {
   "cell_type": "markdown",
   "metadata": {},
   "source": [
    "## Question 5\n",
    "\n",
    "The efficiency of my code is O(n). After making a singly linked list, I put the linked list to try to find the element that is $m$ elements from the end. The way I designed is: (1) Find the length of the linked list, (2) Calculate $n$ from the head in the linked list, which is consistent with $m$ from the end. (3) Find the $n$'s element."
   ]
  },
  {
   "cell_type": "code",
   "execution_count": 326,
   "metadata": {
    "ExecuteTime": {
     "end_time": "2017-11-21T13:07:18.651058Z",
     "start_time": "2017-11-21T13:07:18.618196Z"
    },
    "collapsed": false
   },
   "outputs": [
    {
     "name": "stdout",
     "output_type": "stream",
     "text": [
      "\n"
     ]
    }
   ],
   "source": [
    "## Gind the element in a singly linked list that's m elements from the end\n",
    "\n",
    "## Define a linkedlist, insert a node (push), print the linked list.\n",
    "class Node:\n",
    "    def __init__(self, data):\n",
    "        self.data =  data\n",
    "        self.next = None\n",
    "\n",
    "class LinkedList:\n",
    "    def __init__(self):\n",
    "        self.head = None\n",
    "        \n",
    "    def append(self, new_data):\n",
    "        new_node = Node(new_data)\n",
    "        if self.head is None:\n",
    "            self.head = new_node\n",
    "            return\n",
    "        last = self.head\n",
    "        while (last.next):\n",
    "            last = last.next\n",
    "        last.next = new_node\n",
    "        \n",
    "    def push(self,new_data):\n",
    "        new_node = Node(new_data)\n",
    "        new_node.next = self.head\n",
    "        self.head = new_node\n",
    "        \n",
    "    def printList(self):\n",
    "        node = self.head\n",
    "        while (node):\n",
    "            print node.data,\n",
    "            node = node.next\n",
    "\n",
    "def question5(ll,m):\n",
    "    if ll==None:\n",
    "        return None\n",
    "    node = ll.head\n",
    "    n = 1\n",
    "    while (node.next):\n",
    "        node = node.next\n",
    "        n +=1\n",
    "    node = ll.head\n",
    "    nth = n - m + 1\n",
    "    k = 1\n",
    "    while k < nth:\n",
    "        node = node.next\n",
    "        k += 1\n",
    "    return node.data"
   ]
  },
  {
   "cell_type": "code",
   "execution_count": 330,
   "metadata": {
    "ExecuteTime": {
     "end_time": "2017-11-21T13:07:33.759530Z",
     "start_time": "2017-11-21T13:07:33.748732Z"
    },
    "collapsed": false
   },
   "outputs": [
    {
     "name": "stdout",
     "output_type": "stream",
     "text": [
      "3 50 10 1 5 6 2"
     ]
    },
    {
     "data": {
      "text/plain": [
       "5"
      ]
     },
     "execution_count": 330,
     "metadata": {},
     "output_type": "execute_result"
    },
    {
     "name": "stdout",
     "output_type": "stream",
     "text": [
      "\n"
     ]
    }
   ],
   "source": [
    "## ex1\n",
    "ll = LinkedList()\n",
    "ll.append(2)\n",
    "ll.push(6)\n",
    "ll.push(5)\n",
    "ll.push(1)\n",
    "ll.push(10)\n",
    "ll.push(50)\n",
    "ll.push(3)\n",
    "ll.printList()\n",
    "\n",
    "question5(ll,3)"
   ]
  },
  {
   "cell_type": "code",
   "execution_count": 331,
   "metadata": {
    "ExecuteTime": {
     "end_time": "2017-11-21T13:07:35.404776Z",
     "start_time": "2017-11-21T13:07:35.389463Z"
    },
    "collapsed": false
   },
   "outputs": [
    {
     "name": "stdout",
     "output_type": "stream",
     "text": [
      "1 2 3 4 5 6 7 8 9 10"
     ]
    },
    {
     "data": {
      "text/plain": [
       "3"
      ]
     },
     "execution_count": 331,
     "metadata": {},
     "output_type": "execute_result"
    },
    {
     "name": "stdout",
     "output_type": "stream",
     "text": [
      "\n"
     ]
    }
   ],
   "source": [
    "## ex2\n",
    "ll = LinkedList()\n",
    "ll.append(10)\n",
    "ll.push(9)\n",
    "ll.push(8)\n",
    "ll.push(7)\n",
    "ll.push(6)\n",
    "ll.push(5)\n",
    "ll.push(4)\n",
    "ll.push(3)\n",
    "ll.push(2)\n",
    "ll.push(1)\n",
    "ll.printList()\n",
    "\n",
    "question5(ll,8)"
   ]
  },
  {
   "cell_type": "code",
   "execution_count": 333,
   "metadata": {
    "ExecuteTime": {
     "end_time": "2017-11-21T13:08:06.617660Z",
     "start_time": "2017-11-21T13:08:06.606887Z"
    },
    "collapsed": false
   },
   "outputs": [
    {
     "name": "stdout",
     "output_type": "stream",
     "text": [
      "12 8 2 3 5 7 9 11"
     ]
    },
    {
     "data": {
      "text/plain": [
       "11"
      ]
     },
     "execution_count": 333,
     "metadata": {},
     "output_type": "execute_result"
    },
    {
     "name": "stdout",
     "output_type": "stream",
     "text": [
      "\n"
     ]
    }
   ],
   "source": [
    "## ex3\n",
    "ll = LinkedList()\n",
    "ll.append(11)\n",
    "ll.push(9)\n",
    "ll.push(7)\n",
    "ll.push(5)\n",
    "ll.push(3)\n",
    "ll.push(2)\n",
    "ll.push(8)\n",
    "ll.push(12)\n",
    "ll.printList()\n",
    "\n",
    "question5(ll,1)"
   ]
  }
 ],
 "metadata": {
  "anaconda-cloud": {},
  "kernelspec": {
   "display_name": "Python [Root]",
   "language": "python",
   "name": "Python [Root]"
  },
  "language_info": {
   "codemirror_mode": {
    "name": "ipython",
    "version": 2
   },
   "file_extension": ".py",
   "mimetype": "text/x-python",
   "name": "python",
   "nbconvert_exporter": "python",
   "pygments_lexer": "ipython2",
   "version": "2.7.12"
  },
  "latex_envs": {
   "LaTeX_envs_menu_present": true,
   "autocomplete": true,
   "bibliofile": "biblio.bib",
   "cite_by": "apalike",
   "current_citInitial": 1,
   "eqLabelWithNumbers": true,
   "eqNumInitial": 1,
   "hotkeys": {
    "equation": "Ctrl-E",
    "itemize": "Ctrl-I"
   },
   "labels_anchors": false,
   "latex_user_defs": false,
   "report_style_numbering": false,
   "user_envs_cfg": false
  },
  "toc": {
   "colors": {
    "hover_highlight": "#DAA520",
    "navigate_num": "#000000",
    "navigate_text": "#333333",
    "running_highlight": "#FF0000",
    "selected_highlight": "#FFD700",
    "sidebar_border": "#EEEEEE",
    "wrapper_background": "#FFFFFF"
   },
   "moveMenuLeft": true,
   "nav_menu": {
    "height": "30px",
    "width": "252px"
   },
   "navigate_menu": true,
   "number_sections": true,
   "sideBar": true,
   "threshold": 4,
   "toc_cell": false,
   "toc_section_display": "block",
   "toc_window_display": false,
   "widenNotebook": false
  }
 },
 "nbformat": 4,
 "nbformat_minor": 2
}
