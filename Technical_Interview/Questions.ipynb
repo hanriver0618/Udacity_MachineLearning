{
 "cells": [
  {
   "cell_type": "markdown",
   "metadata": {},
   "source": [
    "## Question 1.\n",
    "\n",
    "I slice string s with the number of the string t, and then check if they are anagram or not."
   ]
  },
  {
   "cell_type": "code",
   "execution_count": 249,
   "metadata": {
    "ExecuteTime": {
     "end_time": "2017-11-22T10:16:54.155197Z",
     "start_time": "2017-11-22T10:16:54.152011Z"
    },
    "collapsed": true
   },
   "outputs": [],
   "source": [
    "import numpy as np"
   ]
  },
  {
   "cell_type": "code",
   "execution_count": 250,
   "metadata": {
    "ExecuteTime": {
     "end_time": "2017-11-22T10:16:54.374791Z",
     "start_time": "2017-11-22T10:16:54.361707Z"
    }
   },
   "outputs": [],
   "source": [
    "## anagram\n",
    "def is_anagram(s1,s2):\n",
    "    s1=list(s1)\n",
    "    s2=list(s2)\n",
    "    s1.sort()\n",
    "    s2.sort()\n",
    "    return s1 == s2\n",
    "\n",
    "def question1(s,t):\n",
    "    if t in s:\n",
    "        return True\n",
    "    else:\n",
    "        if len(t) <= len(s):\n",
    "            for j in range(len(s)-2):\n",
    "                sub_s = s[j:j+len(t)]\n",
    "                if is_anagram(t,sub_s):\n",
    "                    return True\n",
    "    return False\n"
   ]
  },
  {
   "cell_type": "code",
   "execution_count": 251,
   "metadata": {
    "ExecuteTime": {
     "end_time": "2017-11-22T10:16:54.570028Z",
     "start_time": "2017-11-22T10:16:54.563704Z"
    }
   },
   "outputs": [
    {
     "data": {
      "text/plain": [
       "True"
      ]
     },
     "execution_count": 251,
     "metadata": {},
     "output_type": "execute_result"
    }
   ],
   "source": [
    "## ex1\n",
    "s='abcdefsdfggfghjgkkgjjgl'\n",
    "t='cba'\n",
    "question1(s,t)"
   ]
  },
  {
   "cell_type": "code",
   "execution_count": 252,
   "metadata": {
    "ExecuteTime": {
     "end_time": "2017-11-22T10:16:55.197401Z",
     "start_time": "2017-11-22T10:16:55.191949Z"
    }
   },
   "outputs": [
    {
     "data": {
      "text/plain": [
       "False"
      ]
     },
     "execution_count": 252,
     "metadata": {},
     "output_type": "execute_result"
    }
   ],
   "source": [
    "## ex2\n",
    "s='abc'\n",
    "t='abca'\n",
    "question1(s,t)"
   ]
  },
  {
   "cell_type": "code",
   "execution_count": 253,
   "metadata": {
    "ExecuteTime": {
     "end_time": "2017-11-22T10:16:56.675333Z",
     "start_time": "2017-11-22T10:16:56.669544Z"
    }
   },
   "outputs": [
    {
     "data": {
      "text/plain": [
       "False"
      ]
     },
     "execution_count": 253,
     "metadata": {},
     "output_type": "execute_result"
    }
   ],
   "source": [
    "## ex3\n",
    "s='udacity'\n",
    "t='uy'\n",
    "question1(s,t)"
   ]
  },
  {
   "cell_type": "code",
   "execution_count": 254,
   "metadata": {
    "ExecuteTime": {
     "end_time": "2017-11-22T10:22:25.250509Z",
     "start_time": "2017-11-22T10:22:25.244408Z"
    }
   },
   "outputs": [
    {
     "data": {
      "text/plain": [
       "False"
      ]
     },
     "execution_count": 254,
     "metadata": {},
     "output_type": "execute_result"
    }
   ],
   "source": [
    "## ex3\n",
    "s='udacity'\n",
    "t='uy'\n",
    "question1(s,t)"
   ]
  },
  {
   "cell_type": "markdown",
   "metadata": {},
   "source": [
    "## Question 2\n",
    "\n",
    "I designed my code to use the python list indexing shortcut a[::-1] to reverse the substring it's checking. "
   ]
  },
  {
   "cell_type": "code",
   "execution_count": 111,
   "metadata": {
    "ExecuteTime": {
     "end_time": "2017-11-21T15:31:47.116364Z",
     "start_time": "2017-11-21T15:31:47.110614Z"
    }
   },
   "outputs": [],
   "source": [
    "## palindromic substring\n",
    "def question2(a):\n",
    "    \n",
    "    '''\n",
    "    first check whether all of a forms a palindrome or not.\n",
    "    next, consider smaller and smaller substrings of a and check whether they are plaindromic.\n",
    "    '''\n",
    "    \n",
    "    for i in range(len(a)-1):\n",
    "        for j in range(i+1):\n",
    "            sub_a = a[j:len(a)-i+j]\n",
    "            if sub_a == sub_a[::-1]:\n",
    "                return sub_a\n",
    "    return 'No substring available'"
   ]
  },
  {
   "cell_type": "code",
   "execution_count": 112,
   "metadata": {
    "ExecuteTime": {
     "end_time": "2017-11-21T15:31:48.174327Z",
     "start_time": "2017-11-21T15:31:48.168700Z"
    }
   },
   "outputs": [
    {
     "data": {
      "text/plain": [
       "'eaeaeae'"
      ]
     },
     "execution_count": 112,
     "metadata": {},
     "output_type": "execute_result"
    }
   ],
   "source": [
    "## ex1\n",
    "a='eaeaeaea'\n",
    "question2(a)"
   ]
  },
  {
   "cell_type": "code",
   "execution_count": 113,
   "metadata": {
    "ExecuteTime": {
     "end_time": "2017-11-21T15:31:49.008262Z",
     "start_time": "2017-11-21T15:31:49.002938Z"
    }
   },
   "outputs": [
    {
     "data": {
      "text/plain": [
       "'No substring available'"
      ]
     },
     "execution_count": 113,
     "metadata": {},
     "output_type": "execute_result"
    }
   ],
   "source": [
    "## ex2\n",
    "a='stringstring'\n",
    "question2(a)"
   ]
  },
  {
   "cell_type": "code",
   "execution_count": 114,
   "metadata": {
    "ExecuteTime": {
     "end_time": "2017-11-21T15:31:49.737342Z",
     "start_time": "2017-11-21T15:31:49.731259Z"
    }
   },
   "outputs": [
    {
     "data": {
      "text/plain": [
       "'tbalabt'"
      ]
     },
     "execution_count": 114,
     "metadata": {},
     "output_type": "execute_result"
    }
   ],
   "source": [
    "## ex3\n",
    "a='dfdjklasdfjkltbalabtdfdfa'\n",
    "question2(a)"
   ]
  },
  {
   "cell_type": "markdown",
   "metadata": {},
   "source": [
    "## Question 3\n",
    "\n",
    "I used prim's algorithm."
   ]
  },
  {
   "cell_type": "code",
   "execution_count": 115,
   "metadata": {
    "ExecuteTime": {
     "end_time": "2017-11-21T15:31:57.392849Z",
     "start_time": "2017-11-21T15:31:57.335013Z"
    }
   },
   "outputs": [],
   "source": [
    "## Minimum spanning tree (using prim's algorithm)\n",
    "def question3(G):\n",
    "    \n",
    "    n=0\n",
    "    label_list=[]\n",
    "    answer={} ## adjacency list\n",
    "    \n",
    "    ## loop over the number of edges for a minimum spanning tree, which will be n (number of vertex) - 1\n",
    "    \n",
    "    while n < len(G)-1:\n",
    "    \n",
    "    ## starting with the first vertex. \n",
    "        if n==0:\n",
    "            label= G.keys()[0]\n",
    "            label_list.append(label)\n",
    "\n",
    "            min_label  = sorted(G[label], key=lambda x: x[1])[0][0]\n",
    "            weight = sorted(G[label], key=lambda x: x[1])[0][1]\n",
    "            label_list.append(min_label)\n",
    "            \n",
    "    ## when I have already started building the minimum spanning tree, \n",
    "    ## at each iteration I will check for the shortest possible edge to add next\n",
    "    \n",
    "        else:\n",
    "            new={}\n",
    "            for i in label_list:\n",
    "                if len(G[i])!=0:\n",
    "                    temp = sorted(G[i], key=lambda x: x[1])\n",
    "                    temp = [j for j in temp if j[0] not in label_list]\n",
    "                    if len(temp)!=0:\n",
    "                        new[i]=temp[0]\n",
    "\n",
    "            new_answer = sorted(new.values(), key=lambda x: x[1])[0]\n",
    "            new2 = dict((v, k) for k, v in new.iteritems())\n",
    "            label = new2[new_answer]\n",
    "        \n",
    "            min_label = new_answer[0]\n",
    "            weight = new_answer[1]\n",
    "            label_list.append(min_label)\n",
    "    \n",
    "    ## at each iteration, save the new pair of vertices and their edge weights\n",
    "    \n",
    "        if label in answer:\n",
    "            answer[label].append((min_label,weight))\n",
    "        else:\n",
    "            answer[label] = [(min_label,weight)]\n",
    "            \n",
    "        if min_label in answer:  \n",
    "            answer[min_label].append((label,weight))\n",
    "        else:\n",
    "            answer[min_label] = [(label,weight)]\n",
    "    \n",
    "    ## remove the edges that were just connected to the minimum spanning tree\n",
    "        G[label].remove((min_label,weight))\n",
    "        G[min_label].remove((label,weight))\n",
    "    \n",
    "        n+=1\n",
    "    return answer"
   ]
  },
  {
   "cell_type": "code",
   "execution_count": 116,
   "metadata": {
    "ExecuteTime": {
     "end_time": "2017-11-21T15:31:57.763064Z",
     "start_time": "2017-11-21T15:31:57.752625Z"
    }
   },
   "outputs": [
    {
     "data": {
      "text/plain": [
       "{'A': [('B', 2)], 'B': [('A', 2), ('C', 5)], 'C': [('B', 5)]}"
      ]
     },
     "execution_count": 116,
     "metadata": {},
     "output_type": "execute_result"
    }
   ],
   "source": [
    "## ex1\n",
    "G= {'A': [('B', 2)],\n",
    " 'B': [('A', 2), ('C', 5)], \n",
    " 'C': [('B', 5)]}\n",
    "question3(G)"
   ]
  },
  {
   "cell_type": "code",
   "execution_count": 117,
   "metadata": {
    "ExecuteTime": {
     "end_time": "2017-11-21T15:31:58.273268Z",
     "start_time": "2017-11-21T15:31:58.261361Z"
    }
   },
   "outputs": [
    {
     "data": {
      "text/plain": [
       "{'A': [('B', 1)],\n",
       " 'B': [('A', 1), ('E', 1)],\n",
       " 'C': [('F', 5)],\n",
       " 'D': [('E', 1)],\n",
       " 'E': [('B', 1), ('D', 1), ('F', 4)],\n",
       " 'F': [('E', 4), ('C', 5)]}"
      ]
     },
     "execution_count": 117,
     "metadata": {},
     "output_type": "execute_result"
    }
   ],
   "source": [
    "## ex2\n",
    "G= {'A': [('B', 1)],\n",
    " 'B': [('A', 1), ('E', 1), ('F',9)], \n",
    " 'C': [('F', 5)],\n",
    " 'D' : [('E', 1)],\n",
    "   'E' : [('B',1),('D',1),('F',4)],\n",
    "   'F' : [('B',9),('C',5), ('E',4)]}\n",
    "question3(G)"
   ]
  },
  {
   "cell_type": "code",
   "execution_count": 118,
   "metadata": {
    "ExecuteTime": {
     "end_time": "2017-11-21T15:31:58.772181Z",
     "start_time": "2017-11-21T15:31:58.759796Z"
    }
   },
   "outputs": [
    {
     "data": {
      "text/plain": [
       "{'A': [('E', 3)],\n",
       " 'B': [('E', 1)],\n",
       " 'C': [('F', 5)],\n",
       " 'D': [('E', 1)],\n",
       " 'E': [('A', 3), ('B', 1), ('D', 1), ('F', 4)],\n",
       " 'F': [('E', 4), ('C', 5)]}"
      ]
     },
     "execution_count": 118,
     "metadata": {},
     "output_type": "execute_result"
    }
   ],
   "source": [
    "## ex3\n",
    "G= {'A': [('B', 10), ('D',4),('E',3)],\n",
    " 'B': [('A', 10), ('E', 1), ('F',9)], \n",
    " 'C': [('F', 5)],\n",
    " 'D' : [('A',4),('E', 1)],\n",
    "   'E' : [('A',3),('B',1),('D',1),('F',4)],\n",
    "   'F' : [('B',9),('C',5), ('E',4)]}\n",
    "question3(G)"
   ]
  },
  {
   "cell_type": "markdown",
   "metadata": {},
   "source": [
    "## Question 4\n"
   ]
  },
  {
   "cell_type": "code",
   "execution_count": 532,
   "metadata": {
    "ExecuteTime": {
     "end_time": "2017-11-22T11:24:53.226233Z",
     "start_time": "2017-11-22T11:24:53.210614Z"
    }
   },
   "outputs": [],
   "source": [
    "## Least Common Ancester\n",
    "\n",
    "## Read a matrix, find a path to the ancester\n",
    "def find_path(T,r,n,*args):\n",
    "    path = list(args)\n",
    "    path.append(r)\n",
    "\n",
    "    if r == n:\n",
    "        return path\n",
    "    else:\n",
    "        index = np.where(np.array(T[r])==1)[0]\n",
    "        if (len(index)==1) | (r > n):\n",
    "            r = index[0]\n",
    "        else:\n",
    "            r = index[1]\n",
    "        return find_path(T,r,n,*path)\n",
    "    \n",
    "## find the least common ancester\n",
    "def question4(T,r, n1, n2):\n",
    "    path1=[]\n",
    "    path1=find_path(T,r,n1,*path1)\n",
    "    \n",
    "    path2=[]\n",
    "    path2= find_path(T,r,n2,*path2)\n",
    "    \n",
    "    for i in range(len(path1)):\n",
    "        if path1[i]==path2[i]:\n",
    "            lca = path1[i]\n",
    "        else:\n",
    "            return lca\n"
   ]
  },
  {
   "cell_type": "code",
   "execution_count": 534,
   "metadata": {
    "ExecuteTime": {
     "end_time": "2017-11-22T11:24:55.801200Z",
     "start_time": "2017-11-22T11:24:55.792436Z"
    }
   },
   "outputs": [
    {
     "data": {
      "text/plain": [
       "3"
      ]
     },
     "execution_count": 534,
     "metadata": {},
     "output_type": "execute_result"
    }
   ],
   "source": [
    "## ex1\n",
    "T = [[0, 1, 0, 0, 0],\n",
    "           [0, 0, 0, 0, 0],\n",
    "           [0, 0, 0, 0, 0],\n",
    "           [1, 0, 0, 0, 1],\n",
    "           [0, 0, 0, 0, 0]]\n",
    "r = 3\n",
    "n1 = 1\n",
    "n2 = 4\n",
    "question4(T,r,n1,n2)"
   ]
  },
  {
   "cell_type": "code",
   "execution_count": 533,
   "metadata": {
    "ExecuteTime": {
     "end_time": "2017-11-22T11:24:53.850196Z",
     "start_time": "2017-11-22T11:24:53.830865Z"
    }
   },
   "outputs": [
    {
     "data": {
      "text/plain": [
       "7"
      ]
     },
     "execution_count": 533,
     "metadata": {},
     "output_type": "execute_result"
    }
   ],
   "source": [
    "## ex2\n",
    "T = [[0, 0, 0, 0, 0, 0, 0, 0, 0, 0],\n",
    "     [0, 0, 0, 0, 0, 0, 0, 0, 0, 0],\n",
    "     [0, 0, 0, 0, 0, 0, 0, 0, 0, 0],\n",
    "     [0, 1, 0, 0, 1, 0, 0, 0, 0, 0],\n",
    "     [0, 0, 0, 0, 0, 0, 0, 0, 0, 0],\n",
    "     [0, 0, 0, 1, 0, 0, 0, 1, 0, 0],\n",
    "     [0, 0, 0, 0, 0, 0, 0, 0, 0, 0],\n",
    "     [0, 0, 0, 0, 0, 0, 1, 0, 0, 1],\n",
    "     [0, 0, 0, 0, 0, 0, 0, 0, 0, 0],\n",
    "     [0, 0, 0, 0, 0, 0, 0, 0, 1, 0],]\n",
    "r = 5\n",
    "n1 = 6\n",
    "n2 = 8\n",
    "question4(T,r,n1,n2)"
   ]
  },
  {
   "cell_type": "code",
   "execution_count": 535,
   "metadata": {
    "ExecuteTime": {
     "end_time": "2017-11-22T11:24:56.961687Z",
     "start_time": "2017-11-22T11:24:56.938419Z"
    }
   },
   "outputs": [
    {
     "data": {
      "text/plain": [
       "8"
      ]
     },
     "execution_count": 535,
     "metadata": {},
     "output_type": "execute_result"
    }
   ],
   "source": [
    "## ex3\n",
    "T = [[0, 0, 0, 0, 0, 0, 0, 0, 0, 0, 0, 0],\n",
    "     [0, 0, 0, 0, 0, 0, 0, 0, 0, 0, 0, 0],\n",
    "     [0, 0, 0, 0, 0, 0, 0, 0, 0, 0, 0, 0],\n",
    "     [0, 1, 0, 0, 0, 0, 1, 0, 0, 0, 0, 0],\n",
    "     [0, 0, 0, 0, 0, 0, 0, 0, 0, 0, 0, 0],\n",
    "     [0, 0, 0, 0, 0, 0, 0, 0, 0, 0, 0, 0],\n",
    "     [0, 0, 0, 0, 1, 0, 0, 1, 0, 0, 0, 0],\n",
    "     [0, 0, 0, 0, 0, 0, 0, 0, 0, 0, 0, 0],\n",
    "     [0, 0, 0, 1, 0, 0, 0, 0, 0, 0, 1, 0],\n",
    "     [0, 0, 0, 0, 0, 0, 0, 0, 0, 0, 0, 0],\n",
    "     [0, 0, 0, 0, 0, 0, 0, 0, 0, 0, 0, 1],\n",
    "     [0, 0, 0, 0, 0, 0, 0, 0, 0, 1, 0, 0],]\n",
    "r = 8\n",
    "n1 = 4\n",
    "n2 = 9\n",
    "question4(T,r,n1,n2)"
   ]
  },
  {
   "cell_type": "markdown",
   "metadata": {},
   "source": [
    "## Question 5\n",
    "\n",
    "After making a singly linked list, I put the linked list to try to find the element that is $m$ elements from the end. The way I designed is: (1) Find the length of the linked list, (2) Calculate $n$ from the head in the linked list, which is consistent with $m$ from the end. (3) Find the $n$'s element."
   ]
  },
  {
   "cell_type": "code",
   "execution_count": 339,
   "metadata": {
    "ExecuteTime": {
     "end_time": "2017-11-21T13:13:25.983068Z",
     "start_time": "2017-11-21T13:13:25.957903Z"
    }
   },
   "outputs": [],
   "source": [
    "## Gind the element in a singly linked list that's m elements from the end\n",
    "\n",
    "## Define a linkedlist, insert a node (push), print the linked list.\n",
    "class Node:\n",
    "    def __init__(self, data):\n",
    "        self.data =  data\n",
    "        self.next = None\n",
    "\n",
    "class LinkedList:\n",
    "    def __init__(self):\n",
    "        self.head = None\n",
    "        \n",
    "    def push(self,new_data):\n",
    "        new_node = Node(new_data)\n",
    "        new_node.next = self.head\n",
    "        self.head = new_node\n",
    "        \n",
    "#    def printList(self):\n",
    "#        node = self.head\n",
    "#        while (node):\n",
    "#            print node.data,\n",
    "#            node = node.next\n",
    "\n",
    "def question5(ll,m):\n",
    "    if ll==None:\n",
    "        return None\n",
    "    node = ll.head\n",
    "    n = 1\n",
    "    while (node.next):\n",
    "        node = node.next\n",
    "        n +=1\n",
    "    node = ll.head\n",
    "    nth = n - m + 1\n",
    "    k = 1\n",
    "    while k < nth:\n",
    "        node = node.next\n",
    "        k += 1\n",
    "    return node.data"
   ]
  },
  {
   "cell_type": "code",
   "execution_count": 340,
   "metadata": {
    "ExecuteTime": {
     "end_time": "2017-11-21T13:13:33.841074Z",
     "start_time": "2017-11-21T13:13:33.830803Z"
    }
   },
   "outputs": [
    {
     "data": {
      "text/plain": [
       "5"
      ]
     },
     "execution_count": 340,
     "metadata": {},
     "output_type": "execute_result"
    }
   ],
   "source": [
    "## ex1\n",
    "ll = LinkedList()\n",
    "ll.head=Node(2)\n",
    "ll.push(6)\n",
    "ll.push(5)\n",
    "ll.push(1)\n",
    "ll.push(10)\n",
    "ll.push(50)\n",
    "ll.push(3)\n",
    "#ll.printList()\n",
    "\n",
    "question5(ll,3)"
   ]
  },
  {
   "cell_type": "code",
   "execution_count": 341,
   "metadata": {
    "ExecuteTime": {
     "end_time": "2017-11-21T13:13:36.557891Z",
     "start_time": "2017-11-21T13:13:36.544711Z"
    }
   },
   "outputs": [
    {
     "data": {
      "text/plain": [
       "3"
      ]
     },
     "execution_count": 341,
     "metadata": {},
     "output_type": "execute_result"
    }
   ],
   "source": [
    "## ex2\n",
    "ll = LinkedList()\n",
    "ll.head=Node(10)\n",
    "ll.push(9)\n",
    "ll.push(8)\n",
    "ll.push(7)\n",
    "ll.push(6)\n",
    "ll.push(5)\n",
    "ll.push(4)\n",
    "ll.push(3)\n",
    "ll.push(2)\n",
    "ll.push(1)\n",
    "#ll.printList()\n",
    "\n",
    "question5(ll,8)"
   ]
  },
  {
   "cell_type": "code",
   "execution_count": 342,
   "metadata": {
    "ExecuteTime": {
     "end_time": "2017-11-21T13:13:38.630739Z",
     "start_time": "2017-11-21T13:13:38.621715Z"
    }
   },
   "outputs": [
    {
     "data": {
      "text/plain": [
       "11"
      ]
     },
     "execution_count": 342,
     "metadata": {},
     "output_type": "execute_result"
    }
   ],
   "source": [
    "## ex3\n",
    "ll = LinkedList()\n",
    "ll.head=Node(11)\n",
    "ll.push(9)\n",
    "ll.push(7)\n",
    "ll.push(5)\n",
    "ll.push(3)\n",
    "ll.push(2)\n",
    "ll.push(8)\n",
    "ll.push(12)\n",
    "#ll.printList()\n",
    "\n",
    "question5(ll,1)"
   ]
  }
 ],
 "metadata": {
  "anaconda-cloud": {},
  "kernelspec": {
   "display_name": "Python 3",
   "language": "python",
   "name": "python3"
  },
  "language_info": {
   "codemirror_mode": {
    "name": "ipython",
    "version": 3
   },
   "file_extension": ".py",
   "mimetype": "text/x-python",
   "name": "python",
   "nbconvert_exporter": "python",
   "pygments_lexer": "ipython3",
   "version": "3.6.3"
  },
  "latex_envs": {
   "LaTeX_envs_menu_present": true,
   "autocomplete": true,
   "bibliofile": "biblio.bib",
   "cite_by": "apalike",
   "current_citInitial": 1,
   "eqLabelWithNumbers": true,
   "eqNumInitial": 1,
   "hotkeys": {
    "equation": "Ctrl-E",
    "itemize": "Ctrl-I"
   },
   "labels_anchors": false,
   "latex_user_defs": false,
   "report_style_numbering": false,
   "user_envs_cfg": false
  },
  "toc": {
   "colors": {
    "hover_highlight": "#DAA520",
    "navigate_num": "#000000",
    "navigate_text": "#333333",
    "running_highlight": "#FF0000",
    "selected_highlight": "#FFD700",
    "sidebar_border": "#EEEEEE",
    "wrapper_background": "#FFFFFF"
   },
   "moveMenuLeft": true,
   "nav_menu": {
    "height": "30px",
    "width": "252px"
   },
   "navigate_menu": true,
   "number_sections": true,
   "sideBar": true,
   "threshold": 4,
   "toc_cell": false,
   "toc_section_display": "block",
   "toc_window_display": false,
   "widenNotebook": false
  }
 },
 "nbformat": 4,
 "nbformat_minor": 2
}
